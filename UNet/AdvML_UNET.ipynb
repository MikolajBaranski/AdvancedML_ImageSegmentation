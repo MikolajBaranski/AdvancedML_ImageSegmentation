{
  "cells": [
    {
      "cell_type": "markdown",
      "metadata": {
        "id": "a2lI31XvzddJ"
      },
      "source": [
        "# 1. U-Net Model - from scratch"
      ]
    },
    {
      "cell_type": "markdown",
      "metadata": {
        "id": "JTK91Hf2eZhc"
      },
      "source": [
        "## 1.1. Model Setup"
      ]
    },
    {
      "cell_type": "code",
      "execution_count": 1,
      "metadata": {
        "id": "JImTs5C5ebvq"
      },
      "outputs": [],
      "source": [
        "import torch\n",
        "import albumentations as A\n",
        "from tqdm import tqdm\n",
        "import torch.nn as nn\n",
        "import torch.optim as optim\n",
        "import matplotlib.pyplot as plt\n",
        "from model import UNET\n",
        "import cv2\n",
        "from utils import (\n",
        "    load_checkpoint,\n",
        "    save_checkpoint,\n",
        "    get_loaders,\n",
        "    check_accuracy,\n",
        ")\n",
        "\n",
        "# Hyperparameters etc.\n",
        "LEARNING_RATE = 0.001\n",
        "DEVICE = \"cuda\" if torch.cuda.is_available() else \"cpu\"\n",
        "BATCH_SIZE = 16\n",
        "NUM_EPOCHS = 5\n",
        "NUM_WORKERS = 2\n",
        "PIN_MEMORY = True\n",
        "LOAD_MODEL = False\n",
        "IMAGE_HEIGHT = 512\n",
        "IMAGE_WIDTH = 512"
      ]
    },
    {
      "cell_type": "code",
      "execution_count": 2,
      "metadata": {
        "id": "Jyuz4OXYfwx7"
      },
      "outputs": [],
      "source": [
        "def train_fn(loader, model, optimizer, loss_fn, scaler):\n",
        "    loop = tqdm(loader, desc=\"Training\", unit=\"batch\")\n",
        "    train_losses = []\n",
        "\n",
        "    for batch_idx, (data, targets) in enumerate(loop):\n",
        "        data = data.to(device=DEVICE)\n",
        "        targets = targets.long().to(device=DEVICE)\n",
        "\n",
        "        # forward\n",
        "        with torch.cuda.amp.autocast():\n",
        "            predictions = model(data)\n",
        "            loss = loss_fn(predictions, targets)\n",
        "            train_losses.append(loss.item())\n",
        "\n",
        "        # backward\n",
        "        optimizer.zero_grad()\n",
        "        scaler.scale(loss).backward()\n",
        "        scaler.step(optimizer)\n",
        "        scaler.update()\n",
        "\n",
        "        # update tqdm loop\n",
        "        loop.set_postfix(loss=loss.item())\n",
        "    train_loss = sum(train_losses) / len(train_losses)\n",
        "    return train_loss\n"
      ]
    },
    {
      "cell_type": "code",
      "execution_count": 3,
      "metadata": {
        "id": "N7XAtrDkfyuS"
      },
      "outputs": [],
      "source": [
        "# Defining the model, optimizer and loss function\n",
        "model = UNET(in_channels=3, out_channels=37).to(DEVICE)\n",
        "loss_fn = nn.CrossEntropyLoss(ignore_index=255)\n",
        "optimizer = optim.Adam(model.parameters(), lr=LEARNING_RATE)"
      ]
    },
    {
      "cell_type": "code",
      "execution_count": 4,
      "metadata": {
        "id": "NKyQ9mURf4b-"
      },
      "outputs": [],
      "source": [
        "# Defining transformations for model\n",
        "train_transforms = A.Compose(\n",
        "    [\n",
        "        A.Resize(height=IMAGE_HEIGHT, width=IMAGE_WIDTH, p=1.0),\n",
        "        A.Rotate(limit=35, p=0.2, border_mode=cv2.BORDER_CONSTANT, value=255),\n",
        "        A.HorizontalFlip(p=0.5),\n",
        "        A.VerticalFlip(p=0.1),\n",
        "        A.RandomBrightnessContrast(p=0.2),\n",
        "        A.RandomResizedCrop(p=0.1,height=IMAGE_HEIGHT, width=IMAGE_WIDTH,),\n",
        "        A.Normalize(\n",
        "            mean=[0.0, 0.0, 0.0],\n",
        "            std=[1.0, 1.0, 1.0],\n",
        "            max_pixel_value=255.0,\n",
        "        ),\n",
        "    ],\n",
        ")\n",
        "\n",
        "val_transforms = A.Compose(\n",
        "    [\n",
        "        A.Resize(height=IMAGE_HEIGHT, width=IMAGE_WIDTH, p=1.0),\n",
        "        A.Normalize(\n",
        "            mean=[0.0, 0.0, 0.0],\n",
        "            std=[1.0, 1.0, 1.0],\n",
        "            max_pixel_value=255.0,\n",
        "        ),\n",
        "    ],\n",
        ")"
      ]
    },
    {
      "cell_type": "code",
      "execution_count": 5,
      "metadata": {
        "id": "cpeRGJhYf4rS"
      },
      "outputs": [],
      "source": [
        "# Get datasets and data loaders\n",
        "train_loader, val_loader, test_loader, train_dataset, val_dataset, test_dataset = get_loaders(\n",
        "    BATCH_SIZE,\n",
        "    train_transforms,\n",
        "    val_transforms,\n",
        "    num_workers=NUM_WORKERS,\n",
        "    pin_memory=PIN_MEMORY,\n",
        ")\n",
        "\n",
        "if LOAD_MODEL:\n",
        "    load_checkpoint(torch.load(\"my_checkpoint.pth.tar\"), model)\n",
        "\n",
        "scaler = torch.cuda.amp.GradScaler()"
      ]
    },
    {
      "cell_type": "markdown",
      "metadata": {
        "id": "V3HCj5C6Si93"
      },
      "source": [
        "## 1.2. Model Training"
      ]
    },
    {
      "cell_type": "code",
      "execution_count": 6,
      "metadata": {
        "id": "9TSSJdQTvf5K"
      },
      "outputs": [],
      "source": [
        "# Set up loss lists\n",
        "train_losses = []\n",
        "validation_losses = []\n",
        "validation_miou = []\n",
        "validation_iou_all = []\n",
        "validation_accu = []"
      ]
    },
    {
      "cell_type": "code",
      "execution_count": 7,
      "metadata": {
        "colab": {
          "base_uri": "https://localhost:8080/"
        },
        "id": "_4AD-siRf7o9",
        "outputId": "0382a49f-f673-4f88-9a4c-4bb418181821"
      },
      "outputs": [
        {
          "name": "stdout",
          "output_type": "stream",
          "text": [
            "=> Training model at Epoch 1\n"
          ]
        },
        {
          "name": "stderr",
          "output_type": "stream",
          "text": [
            "Training: 100%|██████████| 414/414 [01:23<00:00,  4.94batch/s, loss=1.62]\n"
          ]
        },
        {
          "name": "stdout",
          "output_type": "stream",
          "text": [
            "=> Saving checkpoint\n",
            "=> Checking accuracy\n"
          ]
        },
        {
          "name": "stderr",
          "output_type": "stream",
          "text": [
            "Validation: 100%|██████████| 104/104 [00:30<00:00,  3.44batch/s]\n"
          ]
        },
        {
          "name": "stdout",
          "output_type": "stream",
          "text": [
            "Got 15676503/31792425 with acc 49.31\n",
            "MUoI score: 0.06\n",
            "\n",
            "\n",
            "=> Training model at Epoch 2\n"
          ]
        },
        {
          "name": "stderr",
          "output_type": "stream",
          "text": [
            "Training: 100%|██████████| 414/414 [01:14<00:00,  5.54batch/s, loss=2.15]\n"
          ]
        },
        {
          "name": "stdout",
          "output_type": "stream",
          "text": [
            "=> Saving checkpoint\n",
            "=> Checking accuracy\n"
          ]
        },
        {
          "name": "stderr",
          "output_type": "stream",
          "text": [
            "Validation: 100%|██████████| 104/104 [00:28<00:00,  3.61batch/s]\n"
          ]
        },
        {
          "name": "stdout",
          "output_type": "stream",
          "text": [
            "Got 16068688/31792425 with acc 50.54\n",
            "MUoI score: 0.07\n",
            "\n",
            "\n",
            "=> Training model at Epoch 3\n"
          ]
        },
        {
          "name": "stderr",
          "output_type": "stream",
          "text": [
            "Training: 100%|██████████| 414/414 [01:15<00:00,  5.45batch/s, loss=1.92]\n"
          ]
        },
        {
          "name": "stdout",
          "output_type": "stream",
          "text": [
            "=> Saving checkpoint\n",
            "=> Checking accuracy\n"
          ]
        },
        {
          "name": "stderr",
          "output_type": "stream",
          "text": [
            "Validation: 100%|██████████| 104/104 [00:27<00:00,  3.79batch/s]\n"
          ]
        },
        {
          "name": "stdout",
          "output_type": "stream",
          "text": [
            "Got 16873742/31792425 with acc 53.07\n",
            "MUoI score: 0.07\n",
            "\n",
            "\n",
            "=> Training model at Epoch 4\n"
          ]
        },
        {
          "name": "stderr",
          "output_type": "stream",
          "text": [
            "Training: 100%|██████████| 414/414 [01:15<00:00,  5.51batch/s, loss=1.36]\n"
          ]
        },
        {
          "name": "stdout",
          "output_type": "stream",
          "text": [
            "=> Saving checkpoint\n",
            "=> Checking accuracy\n"
          ]
        },
        {
          "name": "stderr",
          "output_type": "stream",
          "text": [
            "Validation: 100%|██████████| 104/104 [00:26<00:00,  3.96batch/s]\n"
          ]
        },
        {
          "name": "stdout",
          "output_type": "stream",
          "text": [
            "Got 17271677/31792425 with acc 54.33\n",
            "MUoI score: 0.08\n",
            "\n",
            "\n",
            "=> Training model at Epoch 5\n"
          ]
        },
        {
          "name": "stderr",
          "output_type": "stream",
          "text": [
            "Training: 100%|██████████| 414/414 [01:14<00:00,  5.58batch/s, loss=1.53]\n"
          ]
        },
        {
          "name": "stdout",
          "output_type": "stream",
          "text": [
            "=> Saving checkpoint\n",
            "=> Checking accuracy\n"
          ]
        },
        {
          "name": "stderr",
          "output_type": "stream",
          "text": [
            "Validation: 100%|██████████| 104/104 [00:26<00:00,  3.91batch/s]"
          ]
        },
        {
          "name": "stdout",
          "output_type": "stream",
          "text": [
            "Got 17031451/31792425 with acc 53.57\n",
            "MUoI score: 0.08\n",
            "\n",
            "\n"
          ]
        },
        {
          "name": "stderr",
          "output_type": "stream",
          "text": [
            "\n"
          ]
        }
      ],
      "source": [
        "# Training loop\n",
        "for epoch in range(NUM_EPOCHS):\n",
        "    print(f\"=> Training model at Epoch {epoch+1}\")\n",
        "    loss_t = train_fn(train_loader, model, optimizer, loss_fn, scaler)\n",
        "    train_losses.append(loss_t)\n",
        "\n",
        "    # save model\n",
        "    checkpoint = {\n",
        "        \"state_dict\": model.state_dict(),\n",
        "        \"optimizer\":optimizer.state_dict(),\n",
        "    }\n",
        "    save_checkpoint(checkpoint)\n",
        "\n",
        "    # check accuracy\n",
        "    loss_v, accuracy_v, miou_v, iou_v = check_accuracy(val_loader, model, val_dataset, epoch+1, loss_fn,  device=DEVICE, save_images=True, save_batch=10)\n",
        "    validation_losses.append(loss_v)\n",
        "    validation_miou.append(miou_v)\n",
        "    validation_iou_all.append(iou_v)\n",
        "    validation_accu.append(accuracy_v)\n",
        "    print(\"\\n\")"
      ]
    },
    {
      "cell_type": "markdown",
      "metadata": {},
      "source": [
        "## 1.3. Model Evaluation"
      ]
    },
    {
      "cell_type": "code",
      "execution_count": 26,
      "metadata": {
        "colab": {
          "base_uri": "https://localhost:8080/",
          "height": 561
        },
        "id": "OeLwEstKYnTp",
        "outputId": "7ee61c2a-55bd-469e-e40c-11839b89bfbc"
      },
      "outputs": [
        {
          "data": {
            "image/png": "[encoded data removed]",
            "text/plain": [
              "<Figure size 640x480 with 1 Axes>"
            ]
          },
          "metadata": {},
          "output_type": "display_data"
        }
      ],
      "source": [
        "import pandas as pd\n",
        "import matplotlib.pyplot as plt\n",
        "df = pd.DataFrame(validation_iou_all, columns=val_dataset._class_names)\n",
        "# Plot the values from the last row in a bar chart\n",
        "last_row = df.iloc[-1]\n",
        "last_row.plot(kind='bar', xlabel='Classes', ylabel='IoU', title='IoU for Last Epoch')\n",
        "plt.show()"
      ]
    },
    {
      "cell_type": "code",
      "execution_count": null,
      "metadata": {
        "colab": {
          "base_uri": "https://localhost:8080/"
        },
        "id": "mudX68pngH91",
        "outputId": "f54be513-8e50-4da6-d2c4-3656257c15c3"
      },
      "outputs": [
        {
          "name": "stdout",
          "output_type": "stream",
          "text": [
            "=> Checking accuracy\n"
          ]
        },
        {
          "name": "stderr",
          "output_type": "stream",
          "text": [
            "Validation: 100%|██████████| 2067/2067 [03:14<00:00, 10.64batch/s]"
          ]
        },
        {
          "name": "stdout",
          "output_type": "stream",
          "text": [
            "Got 181277060/400817016 with acc 45.23\n",
            "MUoI score: 0.16\n"
          ]
        },
        {
          "name": "stderr",
          "output_type": "stream",
          "text": [
            "\n"
          ]
        },
        {
          "data": {
            "text/plain": [
              "(nan,\n",
              " 45.22688727366804,\n",
              " 0.1605328768075738,\n",
              " array([0.38925847, 0.42183675, 0.        , 0.        , 0.165363  ,\n",
              "        0.        , 0.0578543 , 0.        , 0.01834927, 0.        ,\n",
              "        0.        , 0.        , 0.        , 0.        , 0.        ,\n",
              "        0.        , 0.        , 0.        , 0.        , 0.        ,\n",
              "        0.        , 0.        , 0.        , 0.        , 0.        ,\n",
              "        0.        , 0.        , 0.        , 0.        , 0.        ,\n",
              "        0.        , 0.        , 0.        , 0.        , 0.        ,\n",
              "        0.        , 0.        ]))"
            ]
          },
          "execution_count": 37,
          "metadata": {},
          "output_type": "execute_result"
        }
      ],
      "source": [
        "# Check accuracy on test set\n",
        "_ = check_accuracy(test_loader, model, test_dataset, 'test', loss_fn, device=DEVICE, save_images=True)"
      ]
    }
  ],
  "metadata": {
    "accelerator": "GPU",
    "colab": {
      "collapsed_sections": [
        "Z_i51ooOeM3F",
        "JTK91Hf2eZhc",
        "wzLZNJ_0Sw1D"
      ],
      "gpuType": "T4",
      "provenance": []
    },
    "kernelspec": {
      "display_name": "Python 3",
      "name": "python3"
    },
    "language_info": {
      "codemirror_mode": {
        "name": "ipython",
        "version": 3
      },
      "file_extension": ".py",
      "mimetype": "text/x-python",
      "name": "python",
      "nbconvert_exporter": "python",
      "pygments_lexer": "ipython3",
      "version": "3.9.12"
    }
  },
  "nbformat": 4,
  "nbformat_minor": 0
}
